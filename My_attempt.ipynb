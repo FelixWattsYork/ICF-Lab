{
 "cells": [
  {
   "cell_type": "code",
   "execution_count": 269,
   "metadata": {},
   "outputs": [],
   "source": [
    "import icf\n",
    "import matplotlib.pyplot as plt\n",
    "import numpy as np\n",
    "name_list = [\"horizontal.csv\",\"45_degrees.csv\",\"Vertical.csv\",\"135_Degrees.csv\"]\n",
    "xdata = []\n",
    "ydata = []\n",
    "for n in  range(0,len(name_list)):\n",
    "    xd, yd = icf.load_2col(name_list[n])\n",
    "    xdata.append(xd)\n",
    "    ydata.append(yd)\n"
   ]
  },
  {
   "cell_type": "code",
   "execution_count": 270,
   "metadata": {},
   "outputs": [],
   "source": [
    "for x in range (0,len(xdata)):\n",
    "    xdata[x] *= 60 #resolution\n",
    "    xdata[x] /= 3.5 #magnitication effect"
   ]
  },
  {
   "cell_type": "code",
   "execution_count": 271,
   "metadata": {},
   "outputs": [
    {
     "name": "stdout",
     "output_type": "stream",
     "text": [
      "Mean: 437.14285714285717\n",
      "Variance:  67493.87755102041\n",
      "Population stdev:  257.28567462520516\n",
      "Sample stdev:  259.79583820958413\n",
      "Mean: 351.42857142857144\n",
      "Variance:  44228.57142857143\n",
      "Population stdev:  207.78717526373381\n",
      "Sample stdev:  210.30589965231937\n",
      "Mean: 291.42857142857144\n",
      "Variance:  30857.14285714286\n",
      "Population stdev:  173.13437037192134\n",
      "Sample stdev:  175.66201313073597\n",
      "Mean: 325.7142857142857\n",
      "Variance:  38204.08163265306\n",
      "Population stdev:  192.9364916129615\n",
      "Sample stdev:  195.45864430270936\n"
     ]
    }
   ],
   "source": [
    "import statistics as s\n",
    "for x in range (0,len(xdata)):\n",
    "    print(\"Mean:\", s.mean(xdata[x]))\n",
    "    print(\"Variance: \", s.variance(xdata[x]))\n",
    "    print(\"Population stdev: \", s.pstdev(xdata[x]))\n",
    "    print(\"Sample stdev: \", s.stdev(xdata[x]))"
   ]
  },
  {
   "cell_type": "code",
   "execution_count": 272,
   "metadata": {},
   "outputs": [
    {
     "name": "stdout",
     "output_type": "stream",
     "text": [
      "0\n",
      "41\n",
      "0\n",
      "41\n",
      "0\n",
      "34\n",
      "0\n",
      "38\n"
     ]
    }
   ],
   "source": [
    "# Data Mask\n",
    "\n",
    "for n in range (len(xdata)):\n",
    "    xmin = icf . find_closest ( xdata[n] , 0 )\n",
    "    xmax = icf . find_closest ( xdata[n] , 700 )\n",
    "    print(xmin)\n",
    "    print(xmax)\n",
    "    xdata[n] = xdata[n] [ xmin : xmax]\n",
    "    ydata[n] = ydata[n] [ xmin : xmax ]\n"
   ]
  },
  {
   "cell_type": "code",
   "execution_count": 273,
   "metadata": {},
   "outputs": [
    {
     "name": "stdout",
     "output_type": "stream",
     "text": [
      "Our initial guess is [4282, 411, 169, 27878]\n",
      "Parameter 0 : 3214.8627820448437 +/- 103.67620431705758\n",
      "Parameter 1 : 385.4443023822165 +/- 2.9425178205856195\n",
      "Parameter 2 : 153.17979439980573 +/- 2.80801342834858\n",
      "Parameter 3 : 28528.45512138014 +/- 86.09253239730862\n",
      "Fit parameters :  [ 3214.86278204   385.44430238   153.1797944  28528.45512138]\n",
      "Fit standard deviations :  [103.67620432   2.94251782   2.80801343  86.0925324 ]\n",
      "R^2 =  0.9647575303812761\n"
     ]
    },
    {
     "ename": "TypeError",
     "evalue": "fit_plot() got an unexpected keyword argument 'title'",
     "output_type": "error",
     "traceback": [
      "\u001b[0;31m---------------------------------------------------------------------------\u001b[0m",
      "\u001b[0;31mTypeError\u001b[0m                                 Traceback (most recent call last)",
      "Cell \u001b[0;32mIn[273], line 67\u001b[0m\n\u001b[1;32m     61\u001b[0m \u001b[38;5;28mprint\u001b[39m(\u001b[38;5;124m\"\u001b[39m\u001b[38;5;124mR^2 = \u001b[39m\u001b[38;5;124m\"\u001b[39m, icf\u001b[38;5;241m.\u001b[39mr_squared(ydata[n], yfit[n]))\n\u001b[1;32m     63\u001b[0m \u001b[38;5;66;03m# This will plot the output, both the original data and the best fit, as well as a residual\u001b[39;00m\n\u001b[1;32m     64\u001b[0m \u001b[38;5;66;03m# Note this is a special plotting routine written for the icf labs, hence the 'icf' prefix\u001b[39;00m\n\u001b[1;32m     65\u001b[0m \u001b[38;5;66;03m# The source code can be found in icf.py if you want to copy/alter it\u001b[39;00m\n\u001b[0;32m---> 67\u001b[0m \u001b[43micf\u001b[49m\u001b[38;5;241;43m.\u001b[39;49m\u001b[43mfit_plot\u001b[49m\u001b[43m(\u001b[49m\u001b[43mxdata\u001b[49m\u001b[43m[\u001b[49m\u001b[43mn\u001b[49m\u001b[43m]\u001b[49m\u001b[43m,\u001b[49m\u001b[43m \u001b[49m\u001b[43mydata\u001b[49m\u001b[43m[\u001b[49m\u001b[43mn\u001b[49m\u001b[43m]\u001b[49m\u001b[43m,\u001b[49m\u001b[43m \u001b[49m\u001b[43myfit\u001b[49m\u001b[43m[\u001b[49m\u001b[43mn\u001b[49m\u001b[43m]\u001b[49m\u001b[43m,\u001b[49m\u001b[43mxl\u001b[49m\u001b[43m \u001b[49m\u001b[38;5;241;43m=\u001b[39;49m\u001b[43m \u001b[49m\u001b[38;5;124;43m\"\u001b[39;49m\u001b[38;5;124;43m1\u001b[39;49m\u001b[38;5;124;43m\"\u001b[39;49m\u001b[43m,\u001b[49m\u001b[43myl\u001b[49m\u001b[43m \u001b[49m\u001b[38;5;241;43m=\u001b[39;49m\u001b[43m \u001b[49m\u001b[38;5;124;43m\"\u001b[39;49m\u001b[38;5;124;43m3\u001b[39;49m\u001b[38;5;124;43m\"\u001b[39;49m\u001b[43m,\u001b[49m\u001b[43mtitle\u001b[49m\u001b[43m \u001b[49m\u001b[38;5;241;43m=\u001b[39;49m\u001b[43m \u001b[49m\u001b[38;5;124;43m\"\u001b[39;49m\u001b[38;5;124;43mfelix\u001b[39;49m\u001b[38;5;124;43m\"\u001b[39;49m\u001b[43m)\u001b[49m\n",
      "\u001b[0;31mTypeError\u001b[0m: fit_plot() got an unexpected keyword argument 'title'"
     ]
    }
   ],
   "source": [
    "import numpy as np\n",
    "from scipy.optimize import curve_fit\n",
    "import icf\n",
    "p = 6\n",
    "\n",
    "\n",
    "# This function will generate a perfect Gaussian \n",
    "# You can replace this function with any other you want to fit with...\n",
    "def gaussian(x, *params):\n",
    "\n",
    "\tA = params[0]\n",
    "\tx0 = params[1]\n",
    "\tc = params[2]\n",
    "\ty0 = params[3]\n",
    "\t\n",
    "\treturn A*np.exp(-(x-x0)**2/(2*c*c))\n",
    "\n",
    "def super_gaussian(x, *params):\n",
    "\n",
    "\tA = params[0]\n",
    "\tx0 = params[1]\n",
    "\tc = params[2]\n",
    "\ty0 = params[3]\n",
    "\t\n",
    "\treturn y0 + A*np.exp(-((x-x0)/(np.sqrt(2)*c))**(p))\n",
    "\n",
    "\n",
    "\t\n",
    "yfit  = []\n",
    "for n in range(0,len(xdata)):\n",
    "\tyfit.append([])\n",
    "\t\n",
    "#\n",
    "# This makes a gaussian using these x points\n",
    "for n in range(len(xdata)):\n",
    "\n",
    "\n",
    "\n",
    "\t#\n",
    "\t# This section will do a fit\n",
    "\t#\n",
    "\n",
    "\t# This does the fit, and returns the fit parameters and the covariances\n",
    "\n",
    "\tguess = [int(np.max(ydata[n])-np.min(ydata[n])),int(xdata[n][np.argmax(ydata[n])]),int(400/(2*np.sqrt(2*np.log(2)))),int(np.min(ydata[n]))]\n",
    "\tprint(\"Our initial guess is\", guess)\n",
    "\tpopt, pcov = curve_fit(super_gaussian, xdata[n], ydata[n], p0=guess)\n",
    "\n",
    "\n",
    "\tfor i in range(len(popt)):\n",
    "\t\tprint (\"Parameter\",i,\":\",popt[i],\"+/-\",np.sqrt(pcov[i][i]))\n",
    "\t\t\n",
    "\tprint(\"Fit parameters : \", popt)\n",
    "\tprint(\"Fit standard deviations : \", np.sqrt(np.diag(pcov)))\n",
    "\n",
    "\n",
    "\t# This generates a new list with a Gaussian using the identified fit parameters\n",
    "\t# This data is therefore the best fit curve \n",
    "\tyfit[n] = super_gaussian(xdata[n], *popt)\n",
    "\n",
    "\tprint(\"R^2 = \", icf.r_squared(ydata[n], yfit[n]))\n",
    "\n",
    "\t# This will plot the output, both the original data and the best fit, as well as a residual\n",
    "\t# Note this is a special plotting routine written for the icf labs, hence the 'icf' prefix\n",
    "\t# The source code can be found in icf.py if you want to copy/alter it\n",
    "\t\n",
    "\ticf.fit_plot(xdata[n], ydata[n], yfit[n],xl = \"1\",yl = \"3\",title = \"felix\")"
   ]
  },
  {
   "cell_type": "code",
   "execution_count": null,
   "metadata": {},
   "outputs": [],
   "source": [
    "for n in range (0,len(xdata)):\n",
    "    plt.plot(xdata[n], ydata[n])\n",
    "plt.show()\n"
   ]
  }
 ],
 "metadata": {
  "kernelspec": {
   "display_name": ".venv",
   "language": "python",
   "name": "python3"
  },
  "language_info": {
   "codemirror_mode": {
    "name": "ipython",
    "version": 3
   },
   "file_extension": ".py",
   "mimetype": "text/x-python",
   "name": "python",
   "nbconvert_exporter": "python",
   "pygments_lexer": "ipython3",
   "version": "3.12.3"
  }
 },
 "nbformat": 4,
 "nbformat_minor": 2
}
